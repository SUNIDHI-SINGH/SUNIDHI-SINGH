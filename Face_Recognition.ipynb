{
  "cells": [
    {
      "cell_type": "markdown",
      "metadata": {
        "id": "view-in-github",
        "colab_type": "text"
      },
      "source": [
        "<a href=\"https://colab.research.google.com/github/SUNIDHI-SINGH/SUNIDHI-SINGH/blob/main/Assignment2_ELL784.ipynb\" target=\"_parent\"><img src=\"https://colab.research.google.com/assets/colab-badge.svg\" alt=\"Open In Colab\"/></a>"
      ]
    },
    {
      "cell_type": "code",
      "execution_count": 4,
      "metadata": {
        "id": "xRFnLAvejGkB"
      },
      "outputs": [],
      "source": [
        "import pandas as pd\n",
        "import numpy as np\n",
        "import matplotlib.pyplot as plt\n",
        "import os\n"
      ]
    },
    {
      "cell_type": "code",
      "execution_count": 5,
      "metadata": {
        "colab": {
          "base_uri": "https://localhost:8080/"
        },
        "id": "lcn-_XEtjJaR",
        "outputId": "6a3e57bb-818c-41d5-8b30-04dd2613f2a8"
      },
      "outputs": [
        {
          "output_type": "stream",
          "name": "stdout",
          "text": [
            "Drive already mounted at /content/drive; to attempt to forcibly remount, call drive.mount(\"/content/drive\", force_remount=True).\n"
          ]
        }
      ],
      "source": [
        "from google.colab import drive\n",
        "drive.mount('/content/drive')"
      ]
    },
    {
      "cell_type": "code",
      "execution_count": 6,
      "metadata": {
        "id": "HI7y8YF0jKOc"
      },
      "outputs": [],
      "source": [
        "from PIL import Image"
      ]
    },
    {
      "cell_type": "code",
      "execution_count": 7,
      "metadata": {
        "id": "ycN_0bKiuk7H"
      },
      "outputs": [],
      "source": [
        "import tensorflow as tf\n",
        "from tensorflow.keras import layers, models\n",
        "from tensorflow.keras.datasets import mnist\n",
        "from tensorflow.keras.utils import to_categorical"
      ]
    },
    {
      "cell_type": "code",
      "execution_count": 8,
      "metadata": {
        "id": "F-5mUoc7vDgw"
      },
      "outputs": [],
      "source": [
        "root_dir = \"/content/drive/MyDrive/natural_images\"\n",
        "import os\n",
        "import cv2\n",
        "\n",
        "data = []\n",
        "labels = []\n",
        "for label in os.listdir(root_dir):\n",
        "    path = \"/content/drive/MyDrive/natural_images/{0}/\".format(label)\n",
        "    folder_data = os.listdir(path)\n",
        "    for image_path in folder_data:\n",
        "        img = cv2.imread(path + image_path)\n",
        "        img = cv2.resize(img, (32, 32))\n",
        "        data.append(img)\n",
        "        labels.append(label)"
      ]
    },
    {
      "cell_type": "code",
      "execution_count": 9,
      "metadata": {
        "id": "45RUEToNviwY"
      },
      "outputs": [],
      "source": [
        "\n",
        "data = np.array(data)\n",
        "labels = np.array(labels)\n"
      ]
    },
    {
      "cell_type": "code",
      "execution_count": 10,
      "metadata": {
        "colab": {
          "base_uri": "https://localhost:8080/"
        },
        "id": "lYqtIx4gvo5i",
        "outputId": "e53939cb-95c1-4ea0-85a7-fc0f07b7a070"
      },
      "outputs": [
        {
          "output_type": "execute_result",
          "data": {
            "text/plain": [
              "((1829, 32, 32, 3), (1829,))"
            ]
          },
          "metadata": {},
          "execution_count": 10
        }
      ],
      "source": [
        "data.shape, labels.shape"
      ]
    },
    {
      "cell_type": "code",
      "execution_count": 11,
      "metadata": {
        "colab": {
          "base_uri": "https://localhost:8080/"
        },
        "id": "pIVJiNlRv3AR",
        "outputId": "c8ac3faf-465f-4f63-e791-d79264655c3e"
      },
      "outputs": [
        {
          "output_type": "stream",
          "name": "stdout",
          "text": [
            "[0 0 0 ... 1 1 1]\n"
          ]
        }
      ],
      "source": [
        "from sklearn.preprocessing import LabelEncoder\n",
        "le = LabelEncoder()\n",
        "labels = le.fit_transform(labels)\n",
        "print(labels)"
      ]
    },
    {
      "cell_type": "code",
      "execution_count": 12,
      "metadata": {
        "id": "aRlpKYEewEM6"
      },
      "outputs": [],
      "source": [
        "from tensorflow.keras.utils import to_categorical\n",
        "\n",
        "labels = to_categorical(labels)"
      ]
    },
    {
      "cell_type": "code",
      "execution_count": 13,
      "metadata": {
        "colab": {
          "base_uri": "https://localhost:8080/"
        },
        "id": "wdojUzJ4wFmF",
        "outputId": "60602e8b-c24d-4d83-9f89-e0a905c8bdae"
      },
      "outputs": [
        {
          "output_type": "execute_result",
          "data": {
            "text/plain": [
              "((1829, 32, 32, 3), (1829, 2))"
            ]
          },
          "metadata": {},
          "execution_count": 13
        }
      ],
      "source": [
        "data.shape, labels.shape"
      ]
    },
    {
      "cell_type": "code",
      "execution_count": 14,
      "metadata": {
        "id": "VqHs4s16wL7R"
      },
      "outputs": [],
      "source": [
        "rand = np.arange(1829)\n",
        "np.random.shuffle(rand)"
      ]
    },
    {
      "cell_type": "code",
      "execution_count": 15,
      "metadata": {
        "id": "cnol5XOYwNjF"
      },
      "outputs": [],
      "source": [
        "data = data[rand]\n",
        "labels = labels[rand]"
      ]
    },
    {
      "cell_type": "code",
      "execution_count": 16,
      "metadata": {
        "id": "OrtTnVv-wRyk"
      },
      "outputs": [],
      "source": [
        "from sklearn.model_selection import train_test_split\n",
        "\n",
        "X_train, X_test, y_train, y_test = train_test_split(data, labels, test_size=0.2)\n"
      ]
    },
    {
      "cell_type": "code",
      "execution_count": null,
      "metadata": {
        "id": "62DIWQ69wYtF"
      },
      "outputs": [],
      "source": [
        "\n",
        "from tensorflow.keras.layers import Dense, Conv2D, Flatten, MaxPool2D, Dropout, LeakyReLU\n",
        "from tensorflow.keras.models import Sequential\n",
        "\n",
        "model = Sequential([\n",
        "    Conv2D(32, (3, 3), padding=\"same\", activation='relu', input_shape=(32, 32, 3)),\n",
        "    Conv2D(32, (3, 3), activation='relu'),\n",
        "    MaxPool2D((2, 2)),\n",
        "\n",
        "    Conv2D(64, (3, 3), padding=\"same\", activation=LeakyReLU(0.001)),\n",
        "    Conv2D(64, (3, 3), activation=LeakyReLU(0.001)),\n",
        "    MaxPool2D((2, 2)),\n",
        "\n",
        "    Dropout(0.25),\n",
        "    Flatten(),\n",
        "    Dense(128, activation='relu'),\n",
        "    Dropout(0.5),\n",
        "    Dense(2, activation=\"softmax\")\n",
        "])"
      ]
    },
    {
      "cell_type": "code",
      "execution_count": null,
      "metadata": {
        "id": "_-gIu-F0wao1"
      },
      "outputs": [],
      "source": [
        "model.compile(loss=\"categorical_crossentropy\", optimizer=\"adam\", metrics=[\"accuracy\"])"
      ]
    },
    {
      "cell_type": "code",
      "execution_count": null,
      "metadata": {
        "colab": {
          "base_uri": "https://localhost:8080/"
        },
        "id": "tc_3vUalwjcC",
        "outputId": "af48a121-4822-479f-a80c-6b914418e390"
      },
      "outputs": [
        {
          "name": "stdout",
          "output_type": "stream",
          "text": [
            "Epoch 1/10\n",
            "35/35 [==============================] - 9s 210ms/step - loss: 3.1197 - accuracy: 0.7712 - val_loss: 0.4935 - val_accuracy: 0.7978\n",
            "Epoch 2/10\n",
            "35/35 [==============================] - 5s 136ms/step - loss: 0.2385 - accuracy: 0.9098 - val_loss: 0.0858 - val_accuracy: 0.9781\n",
            "Epoch 3/10\n",
            "35/35 [==============================] - 4s 129ms/step - loss: 0.1298 - accuracy: 0.9590 - val_loss: 0.0956 - val_accuracy: 0.9781\n",
            "Epoch 4/10\n",
            "35/35 [==============================] - 7s 186ms/step - loss: 0.0679 - accuracy: 0.9763 - val_loss: 0.0356 - val_accuracy: 0.9891\n",
            "Epoch 5/10\n",
            "35/35 [==============================] - 4s 126ms/step - loss: 0.0633 - accuracy: 0.9809 - val_loss: 0.0359 - val_accuracy: 0.9836\n",
            "Epoch 6/10\n",
            "35/35 [==============================] - 6s 159ms/step - loss: 0.0314 - accuracy: 0.9900 - val_loss: 0.0542 - val_accuracy: 0.9863\n",
            "Epoch 7/10\n",
            "35/35 [==============================] - 6s 171ms/step - loss: 0.0659 - accuracy: 0.9763 - val_loss: 0.0786 - val_accuracy: 0.9672\n",
            "Epoch 8/10\n",
            "35/35 [==============================] - 5s 135ms/step - loss: 0.0397 - accuracy: 0.9881 - val_loss: 0.0360 - val_accuracy: 0.9863\n",
            "Epoch 9/10\n",
            "35/35 [==============================] - 7s 193ms/step - loss: 0.0305 - accuracy: 0.9881 - val_loss: 0.0730 - val_accuracy: 0.9836\n",
            "Epoch 10/10\n",
            "35/35 [==============================] - 5s 134ms/step - loss: 0.0254 - accuracy: 0.9909 - val_loss: 0.0578 - val_accuracy: 0.9863\n"
          ]
        }
      ],
      "source": [
        "history = model.fit(\n",
        "    X_train,\n",
        "    y_train,\n",
        "    epochs=10,\n",
        "    validation_split=0.25,\n",
        "    batch_size=32\n",
        ")"
      ]
    },
    {
      "cell_type": "code",
      "execution_count": null,
      "metadata": {
        "colab": {
          "base_uri": "https://localhost:8080/",
          "height": 206
        },
        "id": "FeJvvgdewk3O",
        "outputId": "82644882-3790-4aaa-de3c-e52c3da7df1c"
      },
      "outputs": [
        {
          "data": {
            "text/html": [
              "\n",
              "  <div id=\"df-0d3ecc11-449f-4c27-947f-1ef462d1518e\" class=\"colab-df-container\">\n",
              "    <div>\n",
              "<style scoped>\n",
              "    .dataframe tbody tr th:only-of-type {\n",
              "        vertical-align: middle;\n",
              "    }\n",
              "\n",
              "    .dataframe tbody tr th {\n",
              "        vertical-align: top;\n",
              "    }\n",
              "\n",
              "    .dataframe thead th {\n",
              "        text-align: right;\n",
              "    }\n",
              "</style>\n",
              "<table border=\"1\" class=\"dataframe\">\n",
              "  <thead>\n",
              "    <tr style=\"text-align: right;\">\n",
              "      <th></th>\n",
              "      <th>loss</th>\n",
              "      <th>accuracy</th>\n",
              "      <th>val_loss</th>\n",
              "      <th>val_accuracy</th>\n",
              "    </tr>\n",
              "  </thead>\n",
              "  <tbody>\n",
              "    <tr>\n",
              "      <th>0</th>\n",
              "      <td>3.119689</td>\n",
              "      <td>0.771194</td>\n",
              "      <td>0.493518</td>\n",
              "      <td>0.797814</td>\n",
              "    </tr>\n",
              "    <tr>\n",
              "      <th>1</th>\n",
              "      <td>0.238461</td>\n",
              "      <td>0.909754</td>\n",
              "      <td>0.085768</td>\n",
              "      <td>0.978142</td>\n",
              "    </tr>\n",
              "    <tr>\n",
              "      <th>2</th>\n",
              "      <td>0.129754</td>\n",
              "      <td>0.958979</td>\n",
              "      <td>0.095647</td>\n",
              "      <td>0.978142</td>\n",
              "    </tr>\n",
              "    <tr>\n",
              "      <th>3</th>\n",
              "      <td>0.067898</td>\n",
              "      <td>0.976299</td>\n",
              "      <td>0.035624</td>\n",
              "      <td>0.989071</td>\n",
              "    </tr>\n",
              "    <tr>\n",
              "      <th>4</th>\n",
              "      <td>0.063268</td>\n",
              "      <td>0.980857</td>\n",
              "      <td>0.035885</td>\n",
              "      <td>0.983607</td>\n",
              "    </tr>\n",
              "  </tbody>\n",
              "</table>\n",
              "</div>\n",
              "    <div class=\"colab-df-buttons\">\n",
              "\n",
              "  <div class=\"colab-df-container\">\n",
              "    <button class=\"colab-df-convert\" onclick=\"convertToInteractive('df-0d3ecc11-449f-4c27-947f-1ef462d1518e')\"\n",
              "            title=\"Convert this dataframe to an interactive table.\"\n",
              "            style=\"display:none;\">\n",
              "\n",
              "  <svg xmlns=\"http://www.w3.org/2000/svg\" height=\"24px\" viewBox=\"0 -960 960 960\">\n",
              "    <path d=\"M120-120v-720h720v720H120Zm60-500h600v-160H180v160Zm220 220h160v-160H400v160Zm0 220h160v-160H400v160ZM180-400h160v-160H180v160Zm440 0h160v-160H620v160ZM180-180h160v-160H180v160Zm440 0h160v-160H620v160Z\"/>\n",
              "  </svg>\n",
              "    </button>\n",
              "\n",
              "  <style>\n",
              "    .colab-df-container {\n",
              "      display:flex;\n",
              "      gap: 12px;\n",
              "    }\n",
              "\n",
              "    .colab-df-convert {\n",
              "      background-color: #E8F0FE;\n",
              "      border: none;\n",
              "      border-radius: 50%;\n",
              "      cursor: pointer;\n",
              "      display: none;\n",
              "      fill: #1967D2;\n",
              "      height: 32px;\n",
              "      padding: 0 0 0 0;\n",
              "      width: 32px;\n",
              "    }\n",
              "\n",
              "    .colab-df-convert:hover {\n",
              "      background-color: #E2EBFA;\n",
              "      box-shadow: 0px 1px 2px rgba(60, 64, 67, 0.3), 0px 1px 3px 1px rgba(60, 64, 67, 0.15);\n",
              "      fill: #174EA6;\n",
              "    }\n",
              "\n",
              "    .colab-df-buttons div {\n",
              "      margin-bottom: 4px;\n",
              "    }\n",
              "\n",
              "    [theme=dark] .colab-df-convert {\n",
              "      background-color: #3B4455;\n",
              "      fill: #D2E3FC;\n",
              "    }\n",
              "\n",
              "    [theme=dark] .colab-df-convert:hover {\n",
              "      background-color: #434B5C;\n",
              "      box-shadow: 0px 1px 3px 1px rgba(0, 0, 0, 0.15);\n",
              "      filter: drop-shadow(0px 1px 2px rgba(0, 0, 0, 0.3));\n",
              "      fill: #FFFFFF;\n",
              "    }\n",
              "  </style>\n",
              "\n",
              "    <script>\n",
              "      const buttonEl =\n",
              "        document.querySelector('#df-0d3ecc11-449f-4c27-947f-1ef462d1518e button.colab-df-convert');\n",
              "      buttonEl.style.display =\n",
              "        google.colab.kernel.accessAllowed ? 'block' : 'none';\n",
              "\n",
              "      async function convertToInteractive(key) {\n",
              "        const element = document.querySelector('#df-0d3ecc11-449f-4c27-947f-1ef462d1518e');\n",
              "        const dataTable =\n",
              "          await google.colab.kernel.invokeFunction('convertToInteractive',\n",
              "                                                    [key], {});\n",
              "        if (!dataTable) return;\n",
              "\n",
              "        const docLinkHtml = 'Like what you see? Visit the ' +\n",
              "          '<a target=\"_blank\" href=https://colab.research.google.com/notebooks/data_table.ipynb>data table notebook</a>'\n",
              "          + ' to learn more about interactive tables.';\n",
              "        element.innerHTML = '';\n",
              "        dataTable['output_type'] = 'display_data';\n",
              "        await google.colab.output.renderOutput(dataTable, element);\n",
              "        const docLink = document.createElement('div');\n",
              "        docLink.innerHTML = docLinkHtml;\n",
              "        element.appendChild(docLink);\n",
              "      }\n",
              "    </script>\n",
              "  </div>\n",
              "\n",
              "\n",
              "<div id=\"df-78e03010-4191-4f88-9d5a-e5decaad266b\">\n",
              "  <button class=\"colab-df-quickchart\" onclick=\"quickchart('df-78e03010-4191-4f88-9d5a-e5decaad266b')\"\n",
              "            title=\"Suggest charts.\"\n",
              "            style=\"display:none;\">\n",
              "\n",
              "<svg xmlns=\"http://www.w3.org/2000/svg\" height=\"24px\"viewBox=\"0 0 24 24\"\n",
              "     width=\"24px\">\n",
              "    <g>\n",
              "        <path d=\"M19 3H5c-1.1 0-2 .9-2 2v14c0 1.1.9 2 2 2h14c1.1 0 2-.9 2-2V5c0-1.1-.9-2-2-2zM9 17H7v-7h2v7zm4 0h-2V7h2v10zm4 0h-2v-4h2v4z\"/>\n",
              "    </g>\n",
              "</svg>\n",
              "  </button>\n",
              "\n",
              "<style>\n",
              "  .colab-df-quickchart {\n",
              "      --bg-color: #E8F0FE;\n",
              "      --fill-color: #1967D2;\n",
              "      --hover-bg-color: #E2EBFA;\n",
              "      --hover-fill-color: #174EA6;\n",
              "      --disabled-fill-color: #AAA;\n",
              "      --disabled-bg-color: #DDD;\n",
              "  }\n",
              "\n",
              "  [theme=dark] .colab-df-quickchart {\n",
              "      --bg-color: #3B4455;\n",
              "      --fill-color: #D2E3FC;\n",
              "      --hover-bg-color: #434B5C;\n",
              "      --hover-fill-color: #FFFFFF;\n",
              "      --disabled-bg-color: #3B4455;\n",
              "      --disabled-fill-color: #666;\n",
              "  }\n",
              "\n",
              "  .colab-df-quickchart {\n",
              "    background-color: var(--bg-color);\n",
              "    border: none;\n",
              "    border-radius: 50%;\n",
              "    cursor: pointer;\n",
              "    display: none;\n",
              "    fill: var(--fill-color);\n",
              "    height: 32px;\n",
              "    padding: 0;\n",
              "    width: 32px;\n",
              "  }\n",
              "\n",
              "  .colab-df-quickchart:hover {\n",
              "    background-color: var(--hover-bg-color);\n",
              "    box-shadow: 0 1px 2px rgba(60, 64, 67, 0.3), 0 1px 3px 1px rgba(60, 64, 67, 0.15);\n",
              "    fill: var(--button-hover-fill-color);\n",
              "  }\n",
              "\n",
              "  .colab-df-quickchart-complete:disabled,\n",
              "  .colab-df-quickchart-complete:disabled:hover {\n",
              "    background-color: var(--disabled-bg-color);\n",
              "    fill: var(--disabled-fill-color);\n",
              "    box-shadow: none;\n",
              "  }\n",
              "\n",
              "  .colab-df-spinner {\n",
              "    border: 2px solid var(--fill-color);\n",
              "    border-color: transparent;\n",
              "    border-bottom-color: var(--fill-color);\n",
              "    animation:\n",
              "      spin 1s steps(1) infinite;\n",
              "  }\n",
              "\n",
              "  @keyframes spin {\n",
              "    0% {\n",
              "      border-color: transparent;\n",
              "      border-bottom-color: var(--fill-color);\n",
              "      border-left-color: var(--fill-color);\n",
              "    }\n",
              "    20% {\n",
              "      border-color: transparent;\n",
              "      border-left-color: var(--fill-color);\n",
              "      border-top-color: var(--fill-color);\n",
              "    }\n",
              "    30% {\n",
              "      border-color: transparent;\n",
              "      border-left-color: var(--fill-color);\n",
              "      border-top-color: var(--fill-color);\n",
              "      border-right-color: var(--fill-color);\n",
              "    }\n",
              "    40% {\n",
              "      border-color: transparent;\n",
              "      border-right-color: var(--fill-color);\n",
              "      border-top-color: var(--fill-color);\n",
              "    }\n",
              "    60% {\n",
              "      border-color: transparent;\n",
              "      border-right-color: var(--fill-color);\n",
              "    }\n",
              "    80% {\n",
              "      border-color: transparent;\n",
              "      border-right-color: var(--fill-color);\n",
              "      border-bottom-color: var(--fill-color);\n",
              "    }\n",
              "    90% {\n",
              "      border-color: transparent;\n",
              "      border-bottom-color: var(--fill-color);\n",
              "    }\n",
              "  }\n",
              "</style>\n",
              "\n",
              "  <script>\n",
              "    async function quickchart(key) {\n",
              "      const quickchartButtonEl =\n",
              "        document.querySelector('#' + key + ' button');\n",
              "      quickchartButtonEl.disabled = true;  // To prevent multiple clicks.\n",
              "      quickchartButtonEl.classList.add('colab-df-spinner');\n",
              "      try {\n",
              "        const charts = await google.colab.kernel.invokeFunction(\n",
              "            'suggestCharts', [key], {});\n",
              "      } catch (error) {\n",
              "        console.error('Error during call to suggestCharts:', error);\n",
              "      }\n",
              "      quickchartButtonEl.classList.remove('colab-df-spinner');\n",
              "      quickchartButtonEl.classList.add('colab-df-quickchart-complete');\n",
              "    }\n",
              "    (() => {\n",
              "      let quickchartButtonEl =\n",
              "        document.querySelector('#df-78e03010-4191-4f88-9d5a-e5decaad266b button');\n",
              "      quickchartButtonEl.style.display =\n",
              "        google.colab.kernel.accessAllowed ? 'block' : 'none';\n",
              "    })();\n",
              "  </script>\n",
              "</div>\n",
              "    </div>\n",
              "  </div>\n"
            ],
            "text/plain": [
              "       loss  accuracy  val_loss  val_accuracy\n",
              "0  3.119689  0.771194  0.493518      0.797814\n",
              "1  0.238461  0.909754  0.085768      0.978142\n",
              "2  0.129754  0.958979  0.095647      0.978142\n",
              "3  0.067898  0.976299  0.035624      0.989071\n",
              "4  0.063268  0.980857  0.035885      0.983607"
            ]
          },
          "execution_count": 18,
          "metadata": {},
          "output_type": "execute_result"
        }
      ],
      "source": [
        "history_df = pd.DataFrame(history.history)\n",
        "history_df.head()\n"
      ]
    },
    {
      "cell_type": "code",
      "execution_count": null,
      "metadata": {
        "colab": {
          "base_uri": "https://localhost:8080/",
          "height": 452
        },
        "id": "myFLvR5owvUY",
        "outputId": "a5bdc1aa-2840-4a2a-b983-8c2a070c4437"
      },
      "outputs": [
        {
          "data": {
            "image/png": "[encoded data removed]",
            "text/plain": [
              "<Figure size 640x480 with 1 Axes>"
            ]
          },
          "metadata": {},
          "output_type": "display_data"
        }
      ],
      "source": [
        "import matplotlib.pyplot as plt\n",
        "\n",
        "plt.figure()\n",
        "plt.plot(history.history[\"accuracy\"])\n",
        "plt.plot(history.history[\"val_accuracy\"])\n",
        "plt.xlabel(\"Epoch\")\n",
        "plt.ylabel(\"Accuracy\")\n",
        "plt.legend([\"train\", \"valid\"])\n",
        "plt.show()"
      ]
    },
    {
      "cell_type": "code",
      "execution_count": null,
      "metadata": {
        "colab": {
          "base_uri": "https://localhost:8080/"
        },
        "id": "JNwuHUs5w0Da",
        "outputId": "6f4da3de-ab2f-4293-81c9-de0547ee5683"
      },
      "outputs": [
        {
          "name": "stdout",
          "output_type": "stream",
          "text": [
            "12/12 [==============================] - 1s 103ms/step - loss: 0.0195 - accuracy: 0.9891\n"
          ]
        },
        {
          "data": {
            "text/plain": [
              "[0.019545050337910652, 0.9890710115432739]"
            ]
          },
          "execution_count": 20,
          "metadata": {},
          "output_type": "execute_result"
        }
      ],
      "source": [
        "model.evaluate(X_test, y_test)\n"
      ]
    },
    {
      "cell_type": "code",
      "execution_count": null,
      "metadata": {
        "colab": {
          "base_uri": "https://localhost:8080/"
        },
        "id": "bZ9C5Wj0wqkK",
        "outputId": "e2a19b5f-9686-4f22-d586-dbecf220019d"
      },
      "outputs": [
        {
          "name": "stdout",
          "output_type": "stream",
          "text": [
            "12/12 [==============================] - 1s 56ms/step\n"
          ]
        }
      ],
      "source": [
        "y_pred = model.predict(X_test)"
      ]
    },
    {
      "cell_type": "code",
      "execution_count": null,
      "metadata": {
        "colab": {
          "base_uri": "https://localhost:8080/"
        },
        "id": "snvY7abdHfSf",
        "outputId": "a1f4f32d-ad57-43d4-b091-a03ec083da2f"
      },
      "outputs": [
        {
          "name": "stdout",
          "output_type": "stream",
          "text": [
            "732\n"
          ]
        }
      ],
      "source": [
        "print(y_pred.size)"
      ]
    },
    {
      "cell_type": "code",
      "execution_count": null,
      "metadata": {
        "colab": {
          "base_uri": "https://localhost:8080/"
        },
        "id": "C2kXdFWqLBxd",
        "outputId": "aae05f4e-6828-45eb-d101-35514db924a0"
      },
      "outputs": [
        {
          "name": "stdout",
          "output_type": "stream",
          "text": [
            "(32, 32, 3)\n",
            "1/1 [==============================] - 0s 26ms/step\n"
          ]
        }
      ],
      "source": [
        "print(data[0].shape)\n",
        "classes = model.predict(data[0:5,:,:,:])"
      ]
    },
    {
      "cell_type": "code",
      "execution_count": null,
      "metadata": {
        "colab": {
          "base_uri": "https://localhost:8080/"
        },
        "id": "7Qq1PQpZMgiG",
        "outputId": "5dc3b4ba-b8a8-48b7-a792-3f2fef1b618f"
      },
      "outputs": [
        {
          "name": "stdout",
          "output_type": "stream",
          "text": [
            "[[4.5202096e-06 9.9999547e-01]\n",
            " [3.7565661e-07 9.9999964e-01]\n",
            " [1.0957119e-01 8.9042884e-01]\n",
            " [1.0000000e+00 1.3396138e-11]\n",
            " [9.9998653e-01 1.3527460e-05]]\n"
          ]
        }
      ],
      "source": [
        "print(classes)"
      ]
    },
    {
      "cell_type": "code",
      "execution_count": null,
      "metadata": {
        "colab": {
          "base_uri": "https://localhost:8080/",
          "height": 447
        },
        "id": "ynGQk6-DJ-BW",
        "outputId": "fc775a68-3d80-492b-85f0-955f4ea7ce18"
      },
      "outputs": [
        {
          "name": "stdout",
          "output_type": "stream",
          "text": [
            "Softmax Output:  [0.2689432  0.73105675]\n"
          ]
        },
        {
          "data": {
            "image/png": "[encoded data removed]",
            "text/plain": [
              "<Figure size 640x480 with 1 Axes>"
            ]
          },
          "metadata": {},
          "output_type": "display_data"
        }
      ],
      "source": [
        "import numpy as np\n",
        "\n",
        "# Defining the softmax function\n",
        "def softmax(values):\n",
        "\n",
        "    # Computing element wise exponential value\n",
        "    exp_values = np.exp(values)\n",
        "\n",
        "    # Computing sum of these values\n",
        "    exp_values_sum = np.sum(exp_values)\n",
        "\n",
        "    # Returing the softmax output.\n",
        "    return exp_values/exp_values_sum\n",
        "output = softmax(classes[0])\n",
        "print(\"Softmax Output: \", output)\n",
        "\n",
        "import matplotlib.pyplot as plt\n",
        "plt.imshow(data[100])\n",
        "plt.show()"
      ]
    },
    {
      "cell_type": "code",
      "execution_count": null,
      "metadata": {
        "colab": {
          "background_save": true,
          "base_uri": "https://localhost:8080/",
          "height": 69
        },
        "id": "4FBdTbG3WJ5O",
        "outputId": "26403599-3e78-41ca-f39e-f23696d15b00"
      },
      "outputs": [
        {
          "name": "stdout",
          "output_type": "stream",
          "text": [
            "1/1 [==============================] - 0s 78ms/step\n",
            "(1, 13, 13, 64)\n"
          ]
        },
        {
          "data": {
            "text/plain": [
              "<Figure size 200x200 with 0 Axes>"
            ]
          },
          "metadata": {},
          "output_type": "display_data"
        },
        {
          "data": {
            "image/png": "[encoded data removed]",
            "text/plain": [
              "<Figure size 1000x700 with 64 Axes>"
            ]
          },
          "metadata": {},
          "output_type": "display_data"
        }
      ],
      "source": [
        "# Outputs of the 4 layers, which include conv2D and max pooling layers\n",
        "layer_outputs = [layer.output for layer in model.layers[:6]]\n",
        "activation_model = models.Model(inputs = model.input, outputs = layer_outputs)\n",
        "activations = activation_model.predict(data[100:101,:,:,:])\n",
        "for l in range(4,5):\n",
        "  # Getting Activations of first layer\n",
        "  first_layer_activation = activations[l]\n",
        "\n",
        "  # create figure\n",
        "  fig = plt.figure(figsize=(2, 2))\n",
        "  # shape of first layer activation\n",
        "  print(first_layer_activation.shape)\n",
        "  # Adds a subplot at the 1st position\n",
        "\n",
        "  # # 6th channel of the image after first layer of convolution is applied\n",
        "  # plt.matshow(first_layer_activation[0, :, :, 1], cmap ='viridis')\n",
        "\n",
        "  # # 15th channel of the image after first layer of convolution is applied\n",
        "  # plt.matshow(first_layer_activation[0, :, :, 2], cmap ='viridis')\n",
        "\n",
        "\n",
        "\n",
        "\n",
        "# create figure\n",
        "fig = plt.figure(figsize=(10,7))\n",
        "\n",
        "# setting values to rows and column variables\n",
        "rows = 8\n",
        "columns = 8\n",
        "for i in range(1,65):\n",
        "  # Adds a subplot at the 1st position\n",
        "  fig.add_subplot(rows, columns,i)\n",
        "\n",
        "  # showing image\n",
        "  plt.imshow(first_layer_activation[0, :, :, i-1])\n",
        "  plt.axis('off')\n",
        "\n",
        "\n",
        "\n",
        "\n",
        "\n",
        "\n",
        "\n",
        "\n"
      ]
    },
    {
      "cell_type": "markdown",
      "source": [
        "\n",
        "## Receptive Field Calculation"
      ],
      "metadata": {
        "id": "jK3y6nlAARg_"
      }
    },
    {
      "cell_type": "code",
      "source": [
        "! git clone https://github.com/google-research/receptive_field.git\n",
        "import tensorflow.compat.v1 as tf\n",
        "import receptive_field as rf"
      ],
      "metadata": {
        "colab": {
          "base_uri": "https://localhost:8080/"
        },
        "id": "KKt2WyUfAxLM",
        "outputId": "bdc0d88e-ed29-4ebc-80c5-a7279d7ee538"
      },
      "execution_count": 3,
      "outputs": [
        {
          "output_type": "stream",
          "name": "stdout",
          "text": [
            "Cloning into 'receptive_field'...\n",
            "remote: Enumerating objects: 79, done.\u001b[K\n",
            "remote: Counting objects: 100% (7/7), done.\u001b[K\n",
            "remote: Compressing objects: 100% (3/3), done.\u001b[K\n",
            "remote: Total 79 (delta 4), reused 4 (delta 4), pack-reused 72\u001b[K\n",
            "Receiving objects: 100% (79/79), 58.60 KiB | 1.89 MiB/s, done.\n",
            "Resolving deltas: 100% (41/41), done.\n"
          ]
        }
      ]
    },
    {
      "cell_type": "code",
      "source": [
        "# Example given here: InceptionV3.\n",
        "g = tf.Graph()\n",
        "with g.as_default():\n",
        "  from tensorflow.keras.layers import Dense, Conv2D, Flatten, MaxPool2D, Dropout, LeakyReLU\n",
        "  from tensorflow.keras.models import Sequential\n",
        "\n",
        "  model = Sequential([\n",
        "      Conv2D(32, (3, 3), padding=\"same\", activation='relu', input_shape=(32, 32, 3)),\n",
        "      Conv2D(32, (3, 3), activation='relu'),\n",
        "      MaxPool2D((2, 2)),\n",
        "\n",
        "      Conv2D(64, (3, 3), padding=\"same\", activation=LeakyReLU(0.001)),\n",
        "      Conv2D(64, (3, 3), activation=LeakyReLU(0.001)),\n",
        "      MaxPool2D((2, 2)),\n",
        "\n",
        "      Dropout(0.25),\n",
        "      Flatten(),\n",
        "      Dense(128, activation='relu'),\n",
        "      Dropout(0.5),\n",
        "      Dense(2, activation=\"softmax\")\n",
        "  ])\n",
        "  model.compile(loss=\"categorical_crossentropy\", optimizer=\"adam\", metrics=[\"accuracy\"])\n",
        "  history = model.fit(\n",
        "    X_train,\n",
        "    y_train,\n",
        "    epochs=10,\n",
        "    validation_split=0.25,\n",
        "    batch_size=32\n",
        ")\n",
        "print(model.summary())"
      ],
      "metadata": {
        "colab": {
          "base_uri": "https://localhost:8080/"
        },
        "id": "qsSiAab_CkZh",
        "outputId": "c9e865f3-6184-4a14-974d-75eec7dad41a"
      },
      "execution_count": 23,
      "outputs": [
        {
          "output_type": "stream",
          "name": "stdout",
          "text": [
            "Train on 1097 samples, validate on 366 samples\n",
            "Epoch 1/10\n",
            "1088/1097 [============================>.] - ETA: 0s - loss: 2.1465 - accuracy: 0.7169"
          ]
        },
        {
          "output_type": "stream",
          "name": "stderr",
          "text": [
            "/usr/local/lib/python3.10/dist-packages/keras/src/engine/training_v1.py:2335: UserWarning: `Model.state_updates` will be removed in a future version. This property should not be used in TensorFlow 2.0, as `updates` are applied automatically.\n",
            "  updates = self.state_updates\n"
          ]
        },
        {
          "output_type": "stream",
          "name": "stdout",
          "text": [
            "\b\b\b\b\b\b\b\b\b\b\b\b\b\b\b\b\b\b\b\b\b\b\b\b\b\b\b\b\b\b\b\b\b\b\b\b\b\b\b\b\b\b\b\b\b\b\b\b\b\b\b\b\b\b\b\b\b\b\b\b\b\b\b\b\b\b\b\b\b\b\b\b\b\b\b\b\b\b\b\b\b\b\b\b\b\b\r1097/1097 [==============================] - 5s 4ms/sample - loss: 2.1309 - accuracy: 0.7183 - val_loss: 0.1444 - val_accuracy: 0.9481\n",
            "Epoch 2/10\n",
            "1097/1097 [==============================] - 5s 4ms/sample - loss: 0.1374 - accuracy: 0.9508 - val_loss: 0.0477 - val_accuracy: 0.9809\n",
            "Epoch 3/10\n",
            "1097/1097 [==============================] - 6s 6ms/sample - loss: 0.0492 - accuracy: 0.9854 - val_loss: 0.2546 - val_accuracy: 0.9180\n",
            "Epoch 4/10\n",
            "1097/1097 [==============================] - 4s 4ms/sample - loss: 0.0995 - accuracy: 0.9644 - val_loss: 0.0461 - val_accuracy: 0.9863\n",
            "Epoch 5/10\n",
            "1097/1097 [==============================] - 5s 4ms/sample - loss: 0.0552 - accuracy: 0.9827 - val_loss: 0.0556 - val_accuracy: 0.9836\n",
            "Epoch 6/10\n",
            "1097/1097 [==============================] - 6s 6ms/sample - loss: 0.0497 - accuracy: 0.9827 - val_loss: 0.0374 - val_accuracy: 0.9836\n",
            "Epoch 7/10\n",
            "1097/1097 [==============================] - 4s 4ms/sample - loss: 0.0136 - accuracy: 0.9973 - val_loss: 0.0271 - val_accuracy: 0.9918\n",
            "Epoch 8/10\n",
            "1097/1097 [==============================] - 5s 5ms/sample - loss: 0.0046 - accuracy: 0.9991 - val_loss: 0.0187 - val_accuracy: 0.9918\n",
            "Epoch 9/10\n",
            "1097/1097 [==============================] - 6s 5ms/sample - loss: 0.0035 - accuracy: 0.9991 - val_loss: 0.0171 - val_accuracy: 0.9918\n",
            "Epoch 10/10\n",
            "1097/1097 [==============================] - 4s 4ms/sample - loss: 0.0061 - accuracy: 0.9973 - val_loss: 0.0300 - val_accuracy: 0.9918\n",
            "Model: \"sequential\"\n",
            "_________________________________________________________________\n",
            " Layer (type)                Output Shape              Param #   \n",
            "=================================================================\n",
            " conv2d (Conv2D)             (None, 32, 32, 32)        896       \n",
            "                                                                 \n",
            " conv2d_1 (Conv2D)           (None, 30, 30, 32)        9248      \n",
            "                                                                 \n",
            " max_pooling2d (MaxPooling2  (None, 15, 15, 32)        0         \n",
            " D)                                                              \n",
            "                                                                 \n",
            " conv2d_2 (Conv2D)           (None, 15, 15, 64)        18496     \n",
            "                                                                 \n",
            " conv2d_3 (Conv2D)           (None, 13, 13, 64)        36928     \n",
            "                                                                 \n",
            " max_pooling2d_1 (MaxPoolin  (None, 6, 6, 64)          0         \n",
            " g2D)                                                            \n",
            "                                                                 \n",
            " dropout (Dropout)           (None, 6, 6, 64)          0         \n",
            "                                                                 \n",
            " flatten (Flatten)           (None, 2304)              0         \n",
            "                                                                 \n",
            " dense (Dense)               (None, 128)               295040    \n",
            "                                                                 \n",
            " dropout_1 (Dropout)         (None, 128)               0         \n",
            "                                                                 \n",
            " dense_1 (Dense)             (None, 2)                 258       \n",
            "                                                                 \n",
            "=================================================================\n",
            "Total params: 360866 (1.38 MB)\n",
            "Trainable params: 360866 (1.38 MB)\n",
            "Non-trainable params: 0 (0.00 Byte)\n",
            "_________________________________________________________________\n",
            "None\n"
          ]
        }
      ]
    },
    {
      "cell_type": "code",
      "source": [],
      "metadata": {
        "id": "fZGnh854FtIF"
      },
      "execution_count": null,
      "outputs": []
    },
    {
      "cell_type": "code",
      "source": [
        "graph_def = g.as_graph_def()"
      ],
      "metadata": {
        "id": "1VyNVbw9Exno"
      },
      "execution_count": 21,
      "outputs": []
    },
    {
      "cell_type": "code",
      "source": [
        "input_node = 'conv2D'\n",
        "output_node = 'Conv2D_1'\n",
        "(receptive_field_x, receptive_field_y, effective_stride_x,\n",
        " effective_stride_y, effective_padding_x, effective_padding_y) = (\n",
        "         rf.compute_receptive_field_from_graph_def(graph_def, input_node,\n",
        "                                                   output_node))\n",
        ""
      ],
      "metadata": {
        "colab": {
          "base_uri": "https://localhost:8080/",
          "height": 245
        },
        "id": "c0GuuagrE50Q",
        "outputId": "3be6f4c7-c41a-4203-cc21-5c1ffb72fd3a"
      },
      "execution_count": 24,
      "outputs": [
        {
          "output_type": "error",
          "ename": "AttributeError",
          "evalue": "ignored",
          "traceback": [
            "\u001b[0;31m---------------------------------------------------------------------------\u001b[0m",
            "\u001b[0;31mAttributeError\u001b[0m                            Traceback (most recent call last)",
            "\u001b[0;32m<ipython-input-24-7e3a5fec5512>\u001b[0m in \u001b[0;36m<cell line: 5>\u001b[0;34m()\u001b[0m\n\u001b[1;32m      3\u001b[0m (receptive_field_x, receptive_field_y, effective_stride_x,\n\u001b[1;32m      4\u001b[0m  \u001b[0meffective_stride_y\u001b[0m\u001b[0;34m,\u001b[0m \u001b[0meffective_padding_x\u001b[0m\u001b[0;34m,\u001b[0m \u001b[0meffective_padding_y\u001b[0m\u001b[0;34m)\u001b[0m \u001b[0;34m=\u001b[0m \u001b[0;34m(\u001b[0m\u001b[0;34m\u001b[0m\u001b[0;34m\u001b[0m\u001b[0m\n\u001b[0;32m----> 5\u001b[0;31m          rf.compute_receptive_field_from_graph_def(graph_def, input_node,\n\u001b[0m\u001b[1;32m      6\u001b[0m                                                    output_node))\n\u001b[1;32m      7\u001b[0m \u001b[0;34m\u001b[0m\u001b[0m\n",
            "\u001b[0;31mAttributeError\u001b[0m: module 'receptive_field' has no attribute 'compute_receptive_field_from_graph_def'"
          ]
        }
      ]
    }
  ],
  "metadata": {
    "colab": {
      "provenance": [],
      "mount_file_id": "1tnSDK6sz-e9ks4p7KF2VNL9Di3cCac1i",
      "authorship_tag": "ABX9TyNbuge3diJA8vlKPbE+xnx7",
      "include_colab_link": true
    },
    "kernelspec": {
      "display_name": "Python 3",
      "name": "python3"
    },
    "language_info": {
      "name": "python"
    }
  },
  "nbformat": 4,
  "nbformat_minor": 0
}
